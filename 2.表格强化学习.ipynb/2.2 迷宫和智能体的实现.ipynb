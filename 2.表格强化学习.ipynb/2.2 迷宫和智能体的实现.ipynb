{
 "cells": [
  {
   "cell_type": "code",
   "execution_count": null,
   "metadata": {},
   "outputs": [],
   "source": [
    "# %%\n",
    "## 2.2 在迷宫中随机探索\n"
   ]
  },
  {
   "cell_type": "code",
   "execution_count": null,
   "metadata": {},
   "outputs": [],
   "source": [
    "# %%\n",
    "# 导入使用的包\n",
    "import numpy as np\n",
    "import matplotlib.pyplot as plt\n",
    "%matplotlib inline\n"
   ]
  },
  {
   "cell_type": "code",
   "execution_count": null,
   "metadata": {},
   "outputs": [],
   "source": [
    "# %%\n",
    "# 初始位置时迷宫的样子\n",
    "\n",
    "# 设置图的大小和变量名\n",
    "fig = plt.figure(figsize=(5, 5))\n",
    "ax = plt.gca()\n",
    "\n",
    "# 绘制红色的墙壁\n",
    "plt.plot([1, 1], [0, 1], color='red', linewidth=2)\n",
    "plt.plot([1, 2], [2, 2], color='red', linewidth=2)\n",
    "plt.plot([2, 2], [2, 1], color='red', linewidth=2)\n",
    "plt.plot([2, 3], [1, 1], color='red', linewidth=2)\n",
    "\n",
    "# 标注状态S0～S8\n",
    "plt.text(0.5, 2.5, 'S0', size=14, ha='center')\n",
    "plt.text(1.5, 2.5, 'S1', size=14, ha='center')\n",
    "plt.text(2.5, 2.5, 'S2', size=14, ha='center')\n",
    "plt.text(0.5, 1.5, 'S3', size=14, ha='center')\n",
    "plt.text(1.5, 1.5, 'S4', size=14, ha='center')\n",
    "plt.text(2.5, 1.5, 'S5', size=14, ha='center')\n",
    "plt.text(0.5, 0.5, 'S6', size=14, ha='center')\n",
    "plt.text(1.5, 0.5, 'S7', size=14, ha='center')\n",
    "plt.text(2.5, 0.5, 'S8', size=14, ha='center')\n",
    "plt.text(0.5, 2.3, 'START', ha='center')\n",
    "plt.text(2.5, 0.3, 'GOAL', ha='center')\n",
    "\n",
    "# 设置绘图范围并取消刻度\n",
    "ax.set_xlim(0, 3)\n",
    "ax.set_ylim(0, 3)\n",
    "plt.tick_params(axis='both', which='both', bottom=False, top=False,\n",
    "                labelbottom=False, right=False, left=False, labelleft=False)\n",
    "\n",
    "# 在当前位置S0绘制绿色圆点\n",
    "line, = ax.plot([0.5], [2.5], marker=\"o\", color='g', markersize=60)\n"
   ]
  },
  {
   "cell_type": "code",
   "execution_count": null,
   "metadata": {},
   "outputs": [],
   "source": [
    "# %%\n",
    "# 设置初始策略参数theta_0\n",
    "\n",
    "# 行表示状态0～7，列表示移动方向 ↑、→、↓、←\n",
    "theta_0 = np.array([[np.nan, 1, 1, np.nan],  # s0\n",
    "                    [np.nan, 1, np.nan, 1],  # s1\n",
    "                    [np.nan, np.nan, 1, 1],  # s2\n",
    "                    [1, 1, 1, np.nan],  # s3\n",
    "                    [np.nan, np.nan, 1, 1],  # s4\n",
    "                    [1, np.nan, np.nan, np.nan],  # s5\n",
    "                    [1, np.nan, np.nan, np.nan],  # s6\n",
    "                    [1, 1, np.nan, np.nan],  # s7，※s8是目标，没有策略\n",
    "                    ])\n"
   ]
  },
  {
   "cell_type": "code",
   "execution_count": null,
   "metadata": {},
   "outputs": [],
   "source": [
    "# %%\n",
    "# 将策略参数theta转换为行为策略pi的函数定义\n",
    "\n",
    "\n",
    "def simple_convert_into_pi_from_theta(theta):\n",
    "    '''简单计算比例'''\n",
    "\n",
    "    [m, n] = theta.shape  # 获取theta的矩阵大小\n",
    "    pi = np.zeros((m, n))\n",
    "    for i in range(0, m):\n",
    "        pi[i, :] = theta[i, :] / np.nansum(theta[i, :])  # 计算比例\n",
    "\n",
    "    pi = np.nan_to_num(pi)  # 将nan转换为0\n",
    "\n",
    "    return pi\n",
    "\n"
   ]
  },
  {
   "cell_type": "code",
   "execution_count": null,
   "metadata": {},
   "outputs": [],
   "source": [
    "# %%\n",
    "# 计算初始策略pi_0\n",
    "pi_0 = simple_convert_into_pi_from_theta(theta_0)\n",
    "\n"
   ]
  },
  {
   "cell_type": "code",
   "execution_count": null,
   "metadata": {},
   "outputs": [],
   "source": [
    "# %%\n",
    "# 显示初始策略pi_0\n",
    "pi_0\n"
   ]
  },
  {
   "cell_type": "code",
   "execution_count": null,
   "metadata": {},
   "outputs": [],
   "source": [
    "# %%\n",
    "# 定义计算1步后状态s的函数\n",
    "\n",
    "\n",
    "def get_next_s(pi, s):\n",
    "    direction = [\"up\", \"right\", \"down\", \"left\"]\n",
    "\n",
    "    next_direction = np.random.choice(direction, p=pi[s, :])\n",
    "    # 按pi[s,:]的概率选择一个方向\n",
    "\n",
    "    if next_direction == \"up\":\n",
    "        s_next = s - 3  # 向上移动时状态值减少3\n",
    "    elif next_direction == \"right\":\n",
    "        s_next = s + 1  # 向右移动时状态值增加1\n",
    "    elif next_direction == \"down\":\n",
    "        s_next = s + 3  # 向下移动时状态值增加3\n",
    "    elif next_direction == \"left\":\n",
    "        s_next = s - 1  # 向左移动时状态值减少1\n",
    "\n",
    "    return s_next\n",
    "\n"
   ]
  },
  {
   "cell_type": "code",
   "execution_count": null,
   "metadata": {},
   "outputs": [],
   "source": [
    "# %%\n",
    "# 定义让智能体在迷宫中移动直到到达目标的函数\n",
    "\n",
    "\n",
    "def goal_maze(pi):\n",
    "    s = 0  # 起始位置\n",
    "    state_history = [0]  # 记录智能体移动的列表\n",
    "\n",
    "    while (1):  # 循环直到到达目标\n",
    "        next_s = get_next_s(pi, s)\n",
    "        state_history.append(next_s)  # 将下一个状态（智能体位置）添加到记录列表\n",
    "\n",
    "        if next_s == 8:  # 如果到达目标位置则结束\n",
    "            break\n",
    "        else:\n",
    "            s = next_s\n",
    "\n",
    "    return state_history\n",
    "\n"
   ]
  },
  {
   "cell_type": "code",
   "execution_count": null,
   "metadata": {},
   "outputs": [],
   "source": [
    "# %%\n",
    "# 让智能体在迷宫中向目标移动\n",
    "state_history = goal_maze(pi_0)\n",
    "\n"
   ]
  },
  {
   "cell_type": "code",
   "execution_count": null,
   "metadata": {},
   "outputs": [],
   "source": [
    "# %%\n",
    "print(state_history)\n",
    "print(\"解开迷宫所需的步数是\" + str(len(state_history) - 1) + \"步\")\n"
   ]
  },
  {
   "cell_type": "code",
   "execution_count": null,
   "metadata": {},
   "outputs": [],
   "source": [
    "# %%\n",
    "# 可视化智能体的移动过程\n",
    "# 参考URL http://louistiao.me/posts/notebooks/embedding-matplotlib-animations-in-jupyter-notebooks/\n",
    "from matplotlib import animation\n",
    "from IPython.display import HTML\n",
    "\n",
    "\n",
    "def init():\n",
    "    '''初始化背景图像'''\n",
    "    line.set_data([], [])\n",
    "    return (line,)\n",
    "\n",
    "\n",
    "def animate(i):\n",
    "    '''每帧的绘制内容'''\n",
    "    state = state_history[i]  # 绘制当前位置\n",
    "    x = (state % 3) + 0.5  # 状态的x坐标是状态值除以3的余数+0.5\n",
    "    y = 2.5 - int(state / 3)  # y坐标是状态值除以3的商从2.5减去\n",
    "    line.set_data(x, y)\n",
    "    return (line,)\n",
    "\n",
    "\n",
    "# 使用初始化函数和每帧绘制函数生成动画\n",
    "anim = animation.FuncAnimation(fig, animate, init_func=init, frames=len(\n",
    "    state_history), interval=200, repeat=False)\n",
    "\n",
    "HTML(anim.to_jshtml())\n"
   ]
  },
  {
   "cell_type": "code",
   "execution_count": null,
   "metadata": {},
   "outputs": [],
   "source": [
    "# %%"
   ]
  }
 ],
 "metadata": {
  "language_info": {
   "codemirror_mode": {
    "name": "ipython",
    "version": 3
   },
   "file_extension": ".py",
   "mimetype": "text/x-python",
   "name": "python",
   "nbconvert_exporter": "python",
   "pygments_lexer": "ipython3",
   "version": 3
  }
 },
 "nbformat": 4,
 "nbformat_minor": 2
}
